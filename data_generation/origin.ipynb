{
 "cells": [
  {
   "cell_type": "code",
   "execution_count": 1,
   "metadata": {
    "collapsed": true,
    "ExecuteTime": {
     "end_time": "2023-07-19T14:44:13.252089200Z",
     "start_time": "2023-07-19T14:44:11.384682700Z"
    }
   },
   "outputs": [],
   "source": [
    "import numpy as np\n",
    "import pandas as pd\n",
    "import json\n"
   ]
  },
  {
   "cell_type": "code",
   "execution_count": 4,
   "outputs": [
    {
     "data": {
      "text/plain": "             vID   tripDay            timestamp         lon        lat\n0          13331  20211001  2021-10-01 01:32:29  134.127721  34.645477\n1          13331  20211001  2021-10-01 11:23:06  133.582159  34.535361\n2          15654  20211001  2021-10-01 05:46:38  133.468763  34.514123\n3          15654  20211001  2021-10-01 13:46:32  133.794252  34.693720\n4          15654  20211001  2021-10-01 16:13:16  133.794362  34.693800\n...          ...       ...                  ...         ...        ...\n7398465  5257041  20211031  2021-10-31 17:40:06  132.481984  34.395539\n7398466  5257868  20211031  2021-10-31 15:25:15  132.397730  34.415830\n7398467  5272247  20211031  2021-10-31 12:40:18  132.325772  34.353216\n7398468  5282988  20211031  2021-10-31 10:41:05  132.088970  34.416080\n7398469  5282988  20211031  2021-10-31 12:32:13  132.311555  34.348080\n\n[7398470 rows x 5 columns]",
      "text/html": "<div>\n<style scoped>\n    .dataframe tbody tr th:only-of-type {\n        vertical-align: middle;\n    }\n\n    .dataframe tbody tr th {\n        vertical-align: top;\n    }\n\n    .dataframe thead th {\n        text-align: right;\n    }\n</style>\n<table border=\"1\" class=\"dataframe\">\n  <thead>\n    <tr style=\"text-align: right;\">\n      <th></th>\n      <th>vID</th>\n      <th>tripDay</th>\n      <th>timestamp</th>\n      <th>lon</th>\n      <th>lat</th>\n    </tr>\n  </thead>\n  <tbody>\n    <tr>\n      <th>0</th>\n      <td>13331</td>\n      <td>20211001</td>\n      <td>2021-10-01 01:32:29</td>\n      <td>134.127721</td>\n      <td>34.645477</td>\n    </tr>\n    <tr>\n      <th>1</th>\n      <td>13331</td>\n      <td>20211001</td>\n      <td>2021-10-01 11:23:06</td>\n      <td>133.582159</td>\n      <td>34.535361</td>\n    </tr>\n    <tr>\n      <th>2</th>\n      <td>15654</td>\n      <td>20211001</td>\n      <td>2021-10-01 05:46:38</td>\n      <td>133.468763</td>\n      <td>34.514123</td>\n    </tr>\n    <tr>\n      <th>3</th>\n      <td>15654</td>\n      <td>20211001</td>\n      <td>2021-10-01 13:46:32</td>\n      <td>133.794252</td>\n      <td>34.693720</td>\n    </tr>\n    <tr>\n      <th>4</th>\n      <td>15654</td>\n      <td>20211001</td>\n      <td>2021-10-01 16:13:16</td>\n      <td>133.794362</td>\n      <td>34.693800</td>\n    </tr>\n    <tr>\n      <th>...</th>\n      <td>...</td>\n      <td>...</td>\n      <td>...</td>\n      <td>...</td>\n      <td>...</td>\n    </tr>\n    <tr>\n      <th>7398465</th>\n      <td>5257041</td>\n      <td>20211031</td>\n      <td>2021-10-31 17:40:06</td>\n      <td>132.481984</td>\n      <td>34.395539</td>\n    </tr>\n    <tr>\n      <th>7398466</th>\n      <td>5257868</td>\n      <td>20211031</td>\n      <td>2021-10-31 15:25:15</td>\n      <td>132.397730</td>\n      <td>34.415830</td>\n    </tr>\n    <tr>\n      <th>7398467</th>\n      <td>5272247</td>\n      <td>20211031</td>\n      <td>2021-10-31 12:40:18</td>\n      <td>132.325772</td>\n      <td>34.353216</td>\n    </tr>\n    <tr>\n      <th>7398468</th>\n      <td>5282988</td>\n      <td>20211031</td>\n      <td>2021-10-31 10:41:05</td>\n      <td>132.088970</td>\n      <td>34.416080</td>\n    </tr>\n    <tr>\n      <th>7398469</th>\n      <td>5282988</td>\n      <td>20211031</td>\n      <td>2021-10-31 12:32:13</td>\n      <td>132.311555</td>\n      <td>34.348080</td>\n    </tr>\n  </tbody>\n</table>\n<p>7398470 rows × 5 columns</p>\n</div>"
     },
     "execution_count": 4,
     "metadata": {},
     "output_type": "execute_result"
    }
   ],
   "source": [
    "outputdir = 'output/origin_data'\n",
    "\n",
    "dataurl = 'input/origin_data.csv'\n",
    "dataname = outputdir+'/origin_data'\n",
    "\n",
    "# Read origin data\n",
    "data = pd.read_csv(dataurl)\n",
    "\n",
    "# Group data by timestamp\n",
    "grouped = data.groupby(['timestamp'])\n",
    "\n",
    "# Assign unique geo_ids to (grid_x, grid_y) pairs\n",
    "geo_ids = {}\n",
    "current_geo_id = 0\n",
    "for _, group_data in grouped:\n",
    "    for _, row in group_data.iterrows():\n",
    "        grid_x, grid_y = row['grid_x'], row['grid_y']\n",
    "        if (grid_x, grid_y) not in geo_ids:\n",
    "            geo_ids[(grid_x, grid_y)] = current_geo_id\n",
    "            current_geo_id += 1\n",
    "\n",
    "# Create geo file\n",
    "geo = []\n",
    "for (grid_x, grid_y), geo_id in geo_ids.items():\n",
    "    geo.append([geo_id, 'Point', '['+str(grid_x)+', '+str(grid_y)+']'])\n",
    "geo = pd.DataFrame(geo, columns=['geo_id', 'type', 'coordinates'])\n",
    "geo.to_csv(dataname+'.geo', index=False)\n",
    "\n",
    "# Create rel file\n",
    "rel = []\n",
    "for _, group_data in grouped:\n",
    "    origin_id = geo_ids[(group_data.iloc[0]['grid_x'], group_data.iloc[0]['grid_y'])]\n",
    "    rel.append([origin_id, 'geo', origin_id, origin_id, 1])\n",
    "rel = pd.DataFrame(rel, columns=['rel_id', 'type', 'origin_id', 'destination_id', 'cost'])\n",
    "rel.to_csv(dataname+'.rel', index=False)\n",
    "\n",
    "# Create dyna file\n",
    "dyna = []\n",
    "dyna_id = 0\n",
    "dyna_file = open(dataname+'.dyna', 'w')\n",
    "dyna_file.write('dyna_id' + ',' + 'type' + ',' + 'time' + ',' + 'entity_id' + ',' + 'traffic_speed' + '\\n')\n",
    "for _, group_data in grouped:\n",
    "    origin_id = geo_ids[(group_data.iloc[0]['grid_x'], group_data.iloc[0]['grid_y'])]\n",
    "    for _, row in group_data.iterrows():\n",
    "        time = row['timestamp'][:-3] + 'Z'\n",
    "        dyna_file.write(str(dyna_id) + ',' + 'state' + ',' + str(time)\n",
    "                        + ',' + str(origin_id) + ',' + str(row['num']) + '\\n')\n",
    "        dyna_id += 1\n",
    "dyna_file.close()\n",
    "\n",
    "# Create config file\n",
    "config = dict()\n",
    "config['geo'] = dict()\n",
    "config['geo']['including_types'] = ['Point']\n",
    "config['geo']['Point'] = {}\n",
    "config['rel'] = dict()\n",
    "config['rel']['including_types'] = ['geo']\n",
    "config['rel']['geo'] = {'cost': 'num'}\n",
    "config['dyna'] = dict()\n",
    "config['dyna']['including_types'] = ['state']\n",
    "config['dyna']['state'] = {'entity_id': 'geo_id', 'traffic_speed': 'num'}\n",
    "config['info'] = dict()\n",
    "config['info']['data_col'] = 'traffic_speed'\n",
    "config['info']['weight_col'] = 'cost'\n",
    "config['info']['data_files'] = ['origin_data']\n",
    "config['info']['geo_file'] = 'origin_data'\n",
    "config['info']['rel_file'] = 'origin_data'\n",
    "config['info']['output_dim'] = 1(cont.)\n",
    "\n",
    "config['info']['time_intervals'] = 300\n",
    "config['info']['init_weight_inf_or_zero'] = 'inf'\n",
    "config['info']['set_weight_link_or_dist'] = 'dist'\n",
    "config['info']['calculate_weight_adj'] = True\n",
    "config['info']['weight_adj_epsilon'] = 0.1\n",
    "json.dump(config, open(outputdir+'/config.json', 'w', encoding='utf-8'), ensure_ascii=False)"
   ],
   "metadata": {
    "collapsed": false,
    "ExecuteTime": {
     "end_time": "2023-07-19T14:54:04.441235200Z",
     "start_time": "2023-07-19T14:54:00.882530400Z"
    }
   }
  }
 ],
 "metadata": {
  "kernelspec": {
   "display_name": "Python 3",
   "language": "python",
   "name": "python3"
  },
  "language_info": {
   "codemirror_mode": {
    "name": "ipython",
    "version": 2
   },
   "file_extension": ".py",
   "mimetype": "text/x-python",
   "name": "python",
   "nbconvert_exporter": "python",
   "pygments_lexer": "ipython2",
   "version": "2.7.6"
  }
 },
 "nbformat": 4,
 "nbformat_minor": 0
}
